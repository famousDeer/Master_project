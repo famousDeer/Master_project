{
 "cells": [
  {
   "cell_type": "code",
   "execution_count": 1,
   "metadata": {},
   "outputs": [],
   "source": [
    "import time \n",
    "import torch.backends.cudnn as cudnn\n",
    "import torch.optim\n",
    "from pathlib import Path\n",
    "from torchvision.datasets import VOCDetection\n",
    "from torch.utils.data import DataLoader\n",
    "from models import SSD300, MultiBoxLoss\n",
    "from util import *\n",
    "\n",
    "ROOT = Path(\"/home/famousdeer/Desktop/Praca magisterska/Program/data\")\n",
    "BATCH_SIZE = 32\n"
   ]
  },
  {
   "cell_type": "code",
   "execution_count": 5,
   "metadata": {},
   "outputs": [
    {
     "name": "stdout",
     "output_type": "stream",
     "text": [
      "Using downloaded and verified file: /home/famousdeer/Desktop/Praca magisterska/Program/data/VOCtrainval_11-May-2012.tar\n",
      "Extracting /home/famousdeer/Desktop/Praca magisterska/Program/data/VOCtrainval_11-May-2012.tar to /home/famousdeer/Desktop/Praca magisterska/Program/data\n",
      "Using downloaded and verified file: /home/famousdeer/Desktop/Praca magisterska/Program/data/VOCtrainval_11-May-2012.tar\n",
      "Extracting /home/famousdeer/Desktop/Praca magisterska/Program/data/VOCtrainval_11-May-2012.tar to /home/famousdeer/Desktop/Praca magisterska/Program/data\n",
      "Using downloaded and verified file: /home/famousdeer/Desktop/Praca magisterska/Program/data/VOCtrainval_11-May-2012.tar\n",
      "Extracting /home/famousdeer/Desktop/Praca magisterska/Program/data/VOCtrainval_11-May-2012.tar to /home/famousdeer/Desktop/Praca magisterska/Program/data\n"
     ]
    }
   ],
   "source": [
    "train_dataset = VOCDetection(root=ROOT, \n",
    "                             year=\"2012\", \n",
    "                             image_set=\"train\", \n",
    "                             download=True)\n",
    "trainval_dataset = VOCDetection(root=ROOT,\n",
    "                            year=\"2012\",\n",
    "                            image_set=\"trainval\",\n",
    "                            download=True)\n",
    "val_dataset = VOCDetection(root=ROOT,\n",
    "                           year=\"2012\",\n",
    "                           image_set=\"val\",\n",
    "                           download=True)\n",
    "\n",
    "train_loader = DataLoader(\n",
    "                            dataset=train_dataset,\n",
    "                            batch_size=BATCH_SIZE,\n",
    "                            shuffle=True,\n",
    "                            num_workers=4\n",
    "                            )\n",
    "trainval_loader = DataLoader(\n",
    "                            dataset=trainval_dataset,\n",
    "                            batch_size=BATCH_SIZE,\n",
    "                            shuffle=False,\n",
    "                            num_workers=4\n",
    "                            )\n",
    "val_loader = DataLoader(\n",
    "                            dataset=val_dataset,\n",
    "                            batch_size=BATCH_SIZE,\n",
    "                            shuffle=False,\n",
    "                            num_workers=4\n",
    "                            )\n"
   ]
  }
 ],
 "metadata": {
  "kernelspec": {
   "display_name": "Python 3",
   "language": "python",
   "name": "python3"
  },
  "language_info": {
   "codemirror_mode": {
    "name": "ipython",
    "version": 3
   },
   "file_extension": ".py",
   "mimetype": "text/x-python",
   "name": "python",
   "nbconvert_exporter": "python",
   "pygments_lexer": "ipython3",
   "version": "3.10.6"
  },
  "orig_nbformat": 4
 },
 "nbformat": 4,
 "nbformat_minor": 2
}
